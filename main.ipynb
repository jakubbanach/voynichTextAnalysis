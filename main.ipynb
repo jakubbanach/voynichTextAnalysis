{
 "cells": [
  {
   "cell_type": "code",
   "execution_count": 48,
   "metadata": {},
   "outputs": [],
   "source": [
    "import os\n",
    "import unicodedata\n",
    "import re\n",
    "\n",
    "def remove_characters_text(s):\n",
    "    s = s.lower()\n",
    "    s = \"\".join(ch for ch in s if unicodedata.category(ch)[0]!=\"C\")\n",
    "    pattern = re.compile(r'((\\d+\\s*.*\\s*)+\\n–\\s*\\d+\\s*–)|(–\\s*\\d+\\s*–)|(\\d+)')\n",
    "    s = re.sub(pattern, '', s)\n",
    "    \n",
    "    chars_to_replace = ['„', ',', '‘' ,'“', '”', ':', '(', ')', '–', ';']\n",
    "    for c in chars_to_replace:\n",
    "        s = s.replace(c, '')\n",
    "\n",
    "    chars_to_replace = ['‑', '.', '\\n', '?', '!','...',]\n",
    "    for c in chars_to_replace:\n",
    "        s = s.replace(c, ' ')\n",
    "\n",
    "    return s\n",
    "\n",
    "def remove_characters_voynich(s):\n",
    "    s = \"\".join(ch for ch in s if unicodedata.category(ch)[0]!=\"C\")\n",
    "    pattern = re.compile(r'(#.+)|#')\n",
    "    s = re.sub(pattern, '', s)\n",
    "    \n",
    "    chars_to_replace = ['-', '=', ',', '\\n']\n",
    "    for c in chars_to_replace:\n",
    "        s = s.replace(c, ' ')\n",
    "        \n",
    "    return s\n",
    "\n",
    "\n",
    "with open('slovakBenHurText.txt', 'r') as f:\n",
    "    with open('slovakBenHurTextClean.txt', 'w') as f2:\n",
    "        lines = f.readlines()\n",
    "        for l in lines:\n",
    "            l = remove_characters_text(l)\n",
    "            f2.write(l)\n",
    "\n",
    "with open('voynichFullText.txt', 'r') as f:\n",
    "    with open('voynichFullTextClean.txt', 'w') as f2:\n",
    "        lines = f.readlines()\n",
    "        for l in lines:\n",
    "            l = remove_characters_voynich(l)\n",
    "            f2.write(l)\n"
   ]
  }
 ],
 "metadata": {
  "kernelspec": {
   "display_name": "lab10",
   "language": "python",
   "name": "python3"
  },
  "language_info": {
   "codemirror_mode": {
    "name": "ipython",
    "version": 3
   },
   "file_extension": ".py",
   "mimetype": "text/x-python",
   "name": "python",
   "nbconvert_exporter": "python",
   "pygments_lexer": "ipython3",
   "version": "3.11.5"
  }
 },
 "nbformat": 4,
 "nbformat_minor": 2
}
